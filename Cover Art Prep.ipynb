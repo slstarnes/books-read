{
 "cells": [
  {
   "cell_type": "code",
   "execution_count": 13,
   "metadata": {},
   "outputs": [],
   "source": [
    "from pathlib import Path\n",
    "import requests\n",
    "from PIL import Image\n",
    "import re\n",
    "from bs4 import BeautifulSoup\n",
    "import yaml\n",
    "import math"
   ]
  },
  {
   "cell_type": "markdown",
   "metadata": {},
   "source": [
    "This notebook does 2 things. First, it creates the small images used in the grid of the post. Second, it creates a single composite image to be used in the twitter post. "
   ]
  },
  {
   "cell_type": "markdown",
   "metadata": {},
   "source": [
    "The script grabs the cover images from the Reading Challenge page on Goodreads. \n",
    "It creates a `.yml` file which you the order per the desired book order. It then creates the individual images and the composite image. \n",
    "Note: the images should be roughly 98 x 145-152 pixels. The height needs to be 98."
   ]
  },
  {
   "cell_type": "markdown",
   "metadata": {},
   "source": [
    "### Grab the URLs"
   ]
  },
  {
   "cell_type": "code",
   "execution_count": 14,
   "metadata": {},
   "outputs": [],
   "source": [
    "reading_challenge_url = 'https://www.goodreads.com/user_challenges/25922805'\n",
    "r = requests.get(reading_challenge_url)"
   ]
  },
  {
   "cell_type": "code",
   "execution_count": 15,
   "metadata": {},
   "outputs": [],
   "source": [
    "soup = BeautifulSoup(r.content, 'html.parser')"
   ]
  },
  {
   "cell_type": "code",
   "execution_count": 16,
   "metadata": {},
   "outputs": [],
   "source": [
    "urls = {}\n",
    "for el in soup.findAll(\"li\", {\"class\": \"bookCoverContainer\"}):\n",
    "    a = el.select_one('a')\n",
    "    urls[a.img['title']] = a.img['src']"
   ]
  },
  {
   "cell_type": "code",
   "execution_count": 17,
   "metadata": {},
   "outputs": [
    {
     "name": "stdout",
     "output_type": "stream",
     "text": [
      "The book_cover_urls.yml file exists. Since this may be reorderd (see next step) it is not going to be overwritten. You need to rename it or manually delete it.\n"
     ]
    }
   ],
   "source": [
    "if Path('book_cover_urls.yml').exists():\n",
    "    print('The book_cover_urls.yml file exists. ' + \n",
    "          'Since this may be reorderd (see next step) it is not going to be overwritten. ' + \n",
    "          'You need to rename it or manually delete it.')\n",
    "else:\n",
    "    with open('book_cover_urls.yml', 'w') as outfile:\n",
    "        yaml.dump(urls, outfile, default_flow_style=False)"
   ]
  },
  {
   "cell_type": "markdown",
   "metadata": {},
   "source": [
    "### Manual Reorder\n",
    "Open `book_cover_urls.yml` and manually ensure order matches the desired order of the book images. "
   ]
  },
  {
   "cell_type": "markdown",
   "metadata": {},
   "source": [
    "### Process Images"
   ]
  },
  {
   "cell_type": "code",
   "execution_count": 18,
   "metadata": {},
   "outputs": [],
   "source": [
    "with open('book_cover_urls.yml', 'r') as file:\n",
    "    covers = yaml.safe_load(file)"
   ]
  },
  {
   "cell_type": "code",
   "execution_count": 19,
   "metadata": {},
   "outputs": [],
   "source": [
    "cover_dir = Path() / 'cover_images'\n",
    "if not cover_dir.exists():\n",
    "    cover_dir.mkdir()"
   ]
  },
  {
   "cell_type": "code",
   "execution_count": 20,
   "metadata": {},
   "outputs": [],
   "source": [
    "for ix, c in enumerate(covers.values()):\n",
    "    r = requests.get(c)\n",
    "    with open(cover_dir / f'cover_{ix:02d}.jpg', 'wb') as f:\n",
    "        f.write(r.content)"
   ]
  },
  {
   "cell_type": "code",
   "execution_count": 21,
   "metadata": {},
   "outputs": [],
   "source": [
    "def merge_images(files, horizontal=True):\n",
    "    \"\"\"Merge list images into single row of images, displayed side by side\n",
    "    :param list of files: path first image file\n",
    "    :return: the merged Image object\n",
    "    \"\"\"\n",
    "    img = []\n",
    "    w = []\n",
    "    h = []\n",
    "    for f in files:\n",
    "        if not isinstance(f, Image.Image):\n",
    "            image = Image.open(f)\n",
    "        else:\n",
    "            image = f\n",
    "        img.append(image)\n",
    "        (width, height) = image.size\n",
    "        w.append(width)\n",
    "        h.append(height)\n",
    "\n",
    "    if horizontal:\n",
    "        result_width = sum(w)\n",
    "        result_height = min(h)\n",
    "    else:\n",
    "        result_width = max(w)\n",
    "        result_height = sum(h)\n",
    "    \n",
    "    result = Image.new('RGB', (result_width, result_height), color=(255,255,255,0))\n",
    "    for ix, image in enumerate(img):\n",
    "        if horizontal:\n",
    "            width = sum(w[:ix])\n",
    "            result.paste(im=image, box=(width, 0))\n",
    "        else:\n",
    "            height = sum(h[:ix])\n",
    "            result.paste(im=image, box=(0, height))\n",
    "    return result"
   ]
  },
  {
   "cell_type": "code",
   "execution_count": 22,
   "metadata": {},
   "outputs": [],
   "source": [
    "def create_composite(name, cols):\n",
    "    files = [f for f in cover_dir.iterdir() if re.match(r'cover_[0-9]{2}(_blank)?.jpg', f.name)]\n",
    "    files_to_drop = []\n",
    "    if len(files_to_drop) > 0:\n",
    "        files = [f for f in files if int(re.search(r'cover_([0-9]{2}).jpg', f.name).group(1)) not in files_to_drop]\n",
    "    files = sorted(files)\n",
    "    rows = []\n",
    "    for row in range(math.ceil(len(files) / cols)):\n",
    "        fls = files[cols * row:cols * row + cols]\n",
    "        if len(fls) > 0:\n",
    "            rows.append(merge_images(fls, True))\n",
    "    out = merge_images(rows, False)\n",
    "    out.save(name)\n",
    "    return out"
   ]
  },
  {
   "cell_type": "code",
   "execution_count": 23,
   "metadata": {},
   "outputs": [],
   "source": [
    "column_set = (4,5,6,7,8)\n",
    "for c in column_set:\n",
    "    create_composite(f'composite-{c}c.png', c)"
   ]
  },
  {
   "cell_type": "code",
   "execution_count": 24,
   "metadata": {},
   "outputs": [],
   "source": [
    "fill_color = '#EAEAEA' # matches lstarnes.com background\n",
    "for c in column_set:\n",
    "    blanks_needed = c * math.ceil(len(covers) / c) - len(covers)\n",
    "    [f.unlink() for f in Path(cover_dir).glob(\"*_blank.jpg\")]\n",
    "    for ix in range(len(covers), len(covers) + blanks_needed):\n",
    "        Image.new('RGB', (98, 150), color=(fill_color)).save(cover_dir / f'cover_{ix:02d}_blank.jpg')\n",
    "    create_composite(f'composite-filled-{c}c.png', c)\n",
    "    [f.unlink() for f in Path(cover_dir).glob(\"*_blank.jpg\")]"
   ]
  },
  {
   "cell_type": "code",
   "execution_count": null,
   "metadata": {},
   "outputs": [],
   "source": []
  }
 ],
 "metadata": {
  "kernelspec": {
   "display_name": "Python 3",
   "language": "python",
   "name": "python3"
  },
  "language_info": {
   "codemirror_mode": {
    "name": "ipython",
    "version": 3
   },
   "file_extension": ".py",
   "mimetype": "text/x-python",
   "name": "python",
   "nbconvert_exporter": "python",
   "pygments_lexer": "ipython3",
   "version": "3.9.7"
  }
 },
 "nbformat": 4,
 "nbformat_minor": 4
}
